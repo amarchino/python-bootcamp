{
 "metadata": {
  "language_info": {
   "codemirror_mode": {
    "name": "ipython",
    "version": 3
   },
   "file_extension": ".py",
   "mimetype": "text/x-python",
   "name": "python",
   "nbconvert_exporter": "python",
   "pygments_lexer": "ipython3",
   "version": "3.9.2"
  },
  "orig_nbformat": 2,
  "kernelspec": {
   "name": "python392jvsc74a57bd04cd7ab41f5fca4b9b44701077e38c5ffd31fe66a6cab21e0214b68d958d0e462",
   "display_name": "Python 3.9.2 64-bit"
  },
  "metadata": {
   "interpreter": {
    "hash": "4cd7ab41f5fca4b9b44701077e38c5ffd31fe66a6cab21e0214b68d958d0e462"
   }
  }
 },
 "nbformat": 4,
 "nbformat_minor": 2,
 "cells": [
  {
   "cell_type": "code",
   "execution_count": 1,
   "metadata": {},
   "outputs": [],
   "source": [
    "import ipywidgets as widgets"
   ]
  },
  {
   "cell_type": "code",
   "execution_count": 8,
   "metadata": {},
   "outputs": [
    {
     "output_type": "stream",
     "name": "stdout",
     "text": [
      "<class 'ipywidgets.widgets.widget_layout.Layout'>\n<class 'ipywidgets.widgets.widget_selectioncontainer.Accordion'>\n<class 'ipywidgets.widgets.widget_media.Audio'>\n<class 'ipywidgets.widgets.widget_float.BoundedFloatText'>\n<class 'ipywidgets.widgets.widget_int.BoundedIntText'>\n<class 'ipywidgets.widgets.widget_box.Box'>\n<class 'ipywidgets.widgets.widget_button.Button'>\n<class 'ipywidgets.widgets.widget_button.ButtonStyle'>\n<class 'ipywidgets.widgets.widget_bool.Checkbox'>\n<class 'ipywidgets.widgets.widget_color.ColorPicker'>\n<class 'ipywidgets.widgets.widget_string.Combobox'>\n<class 'ipywidgets.widgets.widget_controller.Axis'>\n<class 'ipywidgets.widgets.widget_controller.Button'>\n<class 'ipywidgets.widgets.widget_controller.Controller'>\n<class 'ipywidgets.widgets.widget_media._Media'>\n<class 'ipywidgets.widgets.widget_date.DatePicker'>\n<class 'ipywidgets.widgets.widget_description.DescriptionStyle'>\n<class 'ipywidgets.widgets.widget_link.DirectionalLink'>\n<class 'ipywidgets.widgets.widget_selection.Dropdown'>\n<class 'ipywidgets.widgets.widget_upload.FileUpload'>\n<class 'ipywidgets.widgets.widget_float.FloatLogSlider'>\n<class 'ipywidgets.widgets.widget_float.FloatProgress'>\n<class 'ipywidgets.widgets.widget_float.FloatRangeSlider'>\n<class 'ipywidgets.widgets.widget_float.FloatSlider'>\n<class 'ipywidgets.widgets.widget_float.FloatText'>\n<class 'ipywidgets.widgets.widget_box.GridBox'>\n<class 'ipywidgets.widgets.widget_box.HBox'>\n<class 'ipywidgets.widgets.widget_string.HTMLMath'>\n<class 'ipywidgets.widgets.widget_string.HTML'>\n<class 'ipywidgets.widgets.widget_media.Image'>\n<class 'ipywidgets.widgets.widget_int.IntProgress'>\n<class 'ipywidgets.widgets.widget_int.IntRangeSlider'>\n<class 'ipywidgets.widgets.widget_int.IntSlider'>\n<class 'ipywidgets.widgets.widget_int.IntText'>\n<class 'ipywidgets.widgets.widget_string.Label'>\n<class 'ipywidgets.widgets.widget_link.Link'>\n<class 'ipywidgets.widgets.widget_string.Password'>\n<class 'ipywidgets.widgets.widget_int.Play'>\n<class 'ipywidgets.widgets.widget_int.ProgressStyle'>\n<class 'ipywidgets.widgets.widget_selection.RadioButtons'>\n<class 'ipywidgets.widgets.widget_selection.Select'>\n<class 'ipywidgets.widgets.widget_selection.SelectMultiple'>\n<class 'ipywidgets.widgets.widget_selection.SelectionRangeSlider'>\n<class 'ipywidgets.widgets.widget_selection.SelectionSlider'>\n<class 'ipywidgets.widgets.widget_int.SliderStyle'>\n<class 'ipywidgets.widgets.widget_selectioncontainer.Tab'>\n<class 'ipywidgets.widgets.widget_string.Text'>\n<class 'ipywidgets.widgets.widget_string.Textarea'>\n<class 'ipywidgets.widgets.widget_bool.ToggleButton'>\n<class 'ipywidgets.widgets.widget_selection.ToggleButtons'>\n<class 'ipywidgets.widgets.widget_selection.ToggleButtonsStyle'>\n<class 'ipywidgets.widgets.widget_box.VBox'>\n<class 'ipywidgets.widgets.widget_bool.Valid'>\n<class 'ipywidgets.widgets.widget_media.Video'>\n<class 'ipywidgets.widgets.widget_output.Output'>\n"
     ]
    }
   ],
   "source": [
    "for item in widgets.Widget.widget_types.items():\n",
    "    print(item[1])"
   ]
  },
  {
   "cell_type": "code",
   "execution_count": 9,
   "metadata": {},
   "outputs": [
    {
     "output_type": "display_data",
     "data": {
      "text/plain": "IntSlider(value=7, continuous_update=False, description='Test:', max=10)",
      "application/vnd.jupyter.widget-view+json": {
       "version_major": 2,
       "version_minor": 0,
       "model_id": "9a7fbca3c74949a08fcbdde2c2d60696"
      }
     },
     "metadata": {}
    }
   ],
   "source": [
    "widgets.IntSlider(\n",
    "    value=7,\n",
    "    min=0,\n",
    "    max=10,\n",
    "    step=1,\n",
    "    description='Test:',\n",
    "    disabled=False,\n",
    "    continuous_update=False,\n",
    "    orientation='horizontal',\n",
    "    readout=True,\n",
    "    readout_format='d'\n",
    ")"
   ]
  },
  {
   "cell_type": "code",
   "execution_count": 10,
   "metadata": {},
   "outputs": [
    {
     "output_type": "display_data",
     "data": {
      "text/plain": "FloatSlider(value=7.5, continuous_update=False, description='Test:', max=10.0, readout_format='.1f')",
      "application/vnd.jupyter.widget-view+json": {
       "version_major": 2,
       "version_minor": 0,
       "model_id": "dbc6b34dd7c54ca4aadc4cdd11d56394"
      }
     },
     "metadata": {}
    }
   ],
   "source": [
    "widgets.FloatSlider(\n",
    "    value=7.5,\n",
    "    min=0,\n",
    "    max=10.0,\n",
    "    step=0.1,\n",
    "    description='Test:',\n",
    "    disabled=False,\n",
    "    continuous_update=False,\n",
    "    orientation='horizontal',\n",
    "    readout=True,\n",
    "    readout_format='.1f'\n",
    ")"
   ]
  },
  {
   "cell_type": "code",
   "execution_count": 12,
   "metadata": {},
   "outputs": [
    {
     "output_type": "display_data",
     "data": {
      "text/plain": "FloatSlider(value=7.5, continuous_update=False, description='Test:', max=10.0, orientation='vertical', readout…",
      "application/vnd.jupyter.widget-view+json": {
       "version_major": 2,
       "version_minor": 0,
       "model_id": "3f84189b5df64e8886393f35cb9435a5"
      }
     },
     "metadata": {}
    }
   ],
   "source": [
    "widgets.FloatSlider(\n",
    "    value=7.5,\n",
    "    min=0,\n",
    "    max=10.0,\n",
    "    step=0.1,\n",
    "    description='Test:',\n",
    "    disabled=False,\n",
    "    continuous_update=False,\n",
    "    orientation='vertical',\n",
    "    readout=True,\n",
    "    readout_format='.1f'\n",
    ")"
   ]
  },
  {
   "cell_type": "code",
   "execution_count": 13,
   "metadata": {},
   "outputs": [
    {
     "output_type": "display_data",
     "data": {
      "text/plain": "IntRangeSlider(value=(5, 7), continuous_update=False, description='Test:', max=10)",
      "application/vnd.jupyter.widget-view+json": {
       "version_major": 2,
       "version_minor": 0,
       "model_id": "f6ed5376eb764750862cfef1887c5a66"
      }
     },
     "metadata": {}
    }
   ],
   "source": [
    "widgets.IntRangeSlider(\n",
    "    value=[5,7],\n",
    "    min=0,\n",
    "    max=10,\n",
    "    step=1,\n",
    "    description='Test:',\n",
    "    disabled=False,\n",
    "    continuous_update=False,\n",
    "    orientation='horizontal',\n",
    "    readout=True,\n",
    "    readout_format='d'\n",
    ")"
   ]
  },
  {
   "cell_type": "code",
   "execution_count": 15,
   "metadata": {},
   "outputs": [
    {
     "output_type": "display_data",
     "data": {
      "text/plain": "FloatRangeSlider(value=(5.0, 7.0), continuous_update=False, description='Test:', max=10.0, readout_format='.1f…",
      "application/vnd.jupyter.widget-view+json": {
       "version_major": 2,
       "version_minor": 0,
       "model_id": "4b8f13dbaa24438cb4e7ff03d3df132a"
      }
     },
     "metadata": {}
    }
   ],
   "source": [
    "widgets.FloatRangeSlider(\n",
    "    value=[5.0,7.0],\n",
    "    min=0,\n",
    "    max=10.0,\n",
    "    step=.01,\n",
    "    description='Test:',\n",
    "    disabled=False,\n",
    "    continuous_update=False,\n",
    "    orientation='horizontal',\n",
    "    readout=True,\n",
    "    readout_format='.1f'\n",
    ")"
   ]
  },
  {
   "cell_type": "code",
   "execution_count": 18,
   "metadata": {},
   "outputs": [
    {
     "output_type": "display_data",
     "data": {
      "text/plain": "IntProgress(value=7, description='Loading:', max=10)",
      "application/vnd.jupyter.widget-view+json": {
       "version_major": 2,
       "version_minor": 0,
       "model_id": "73f2b8b2127743d68abdec2f26f8ceb1"
      }
     },
     "metadata": {}
    }
   ],
   "source": [
    "widgets.IntProgress(\n",
    "    value=7,\n",
    "    min=0,\n",
    "    max=10,\n",
    "    step=1,\n",
    "    description='Loading:',\n",
    "    bar_style='',\n",
    "    orientation='horizontal'\n",
    ")"
   ]
  },
  {
   "cell_type": "code",
   "execution_count": 19,
   "metadata": {},
   "outputs": [
    {
     "output_type": "display_data",
     "data": {
      "text/plain": "FloatProgress(value=7.0, bar_style='success', description='Loading:', max=10.0)",
      "application/vnd.jupyter.widget-view+json": {
       "version_major": 2,
       "version_minor": 0,
       "model_id": "39779427d8ae49d1a7947b0189d1ea88"
      }
     },
     "metadata": {}
    }
   ],
   "source": [
    "widgets.FloatProgress(\n",
    "    value=7.0,\n",
    "    min=0.0,\n",
    "    max=10.0,\n",
    "    step=.01,\n",
    "    description='Loading:',\n",
    "    bar_style='success',\n",
    "    orientation='horizontal'\n",
    ")"
   ]
  },
  {
   "cell_type": "code",
   "execution_count": 20,
   "metadata": {},
   "outputs": [
    {
     "output_type": "display_data",
     "data": {
      "text/plain": "BoundedIntText(value=7, description='Text:', max=10)",
      "application/vnd.jupyter.widget-view+json": {
       "version_major": 2,
       "version_minor": 0,
       "model_id": "b5950e3a30e948dd87c5c76f1f1faecf"
      }
     },
     "metadata": {}
    }
   ],
   "source": [
    "widgets.BoundedIntText(\n",
    "    value=7,\n",
    "    min=0,\n",
    "    max=10,\n",
    "    step=1,\n",
    "    description='Text:',\n",
    "    disabled=False\n",
    ")"
   ]
  },
  {
   "cell_type": "code",
   "execution_count": 22,
   "metadata": {},
   "outputs": [
    {
     "output_type": "display_data",
     "data": {
      "text/plain": "BoundedFloatText(value=7.0, description='Text:', max=10.0, step=0.1)",
      "application/vnd.jupyter.widget-view+json": {
       "version_major": 2,
       "version_minor": 0,
       "model_id": "92c2758091d5469780fc9faa03b3977d"
      }
     },
     "metadata": {}
    }
   ],
   "source": [
    "widgets.BoundedFloatText(\n",
    "    value=7.0,\n",
    "    min=0.0,\n",
    "    max=10.0,\n",
    "    step=0.1,\n",
    "    description='Text:',\n",
    "    disabled=False\n",
    ")"
   ]
  },
  {
   "cell_type": "code",
   "execution_count": 23,
   "metadata": {},
   "outputs": [
    {
     "output_type": "display_data",
     "data": {
      "text/plain": "ToggleButton(value=False, button_style='danger', description='Click me', icon='check', tooltip='Description')",
      "application/vnd.jupyter.widget-view+json": {
       "version_major": 2,
       "version_minor": 0,
       "model_id": "69cc90a1b710446aa7ebaf476066c64a"
      }
     },
     "metadata": {}
    }
   ],
   "source": [
    "widgets.ToggleButton(\n",
    "    value=False,\n",
    "    description='Click me',\n",
    "    disabled=False,\n",
    "    button_style='danger',\n",
    "    tooltip='Description',\n",
    "    icon='check'\n",
    ")"
   ]
  },
  {
   "cell_type": "code",
   "execution_count": 25,
   "metadata": {},
   "outputs": [
    {
     "output_type": "display_data",
     "data": {
      "text/plain": "Checkbox(value=False, description='Click me')",
      "application/vnd.jupyter.widget-view+json": {
       "version_major": 2,
       "version_minor": 0,
       "model_id": "b12574cb25ed470b9f94a20bd91a958c"
      }
     },
     "metadata": {}
    }
   ],
   "source": [
    "widgets.Checkbox(\n",
    "    value=False,\n",
    "    description='Click me',\n",
    "    disabled=False\n",
    ")"
   ]
  },
  {
   "cell_type": "code",
   "execution_count": 28,
   "metadata": {},
   "outputs": [
    {
     "output_type": "display_data",
     "data": {
      "text/plain": "Valid(value=False, description='Valid!')",
      "application/vnd.jupyter.widget-view+json": {
       "version_major": 2,
       "version_minor": 0,
       "model_id": "86f93b961f91445891e49edc1603fd0c"
      }
     },
     "metadata": {}
    }
   ],
   "source": [
    "widgets.Valid(\n",
    "    value=False,\n",
    "    description='Valid!'\n",
    ")"
   ]
  },
  {
   "cell_type": "code",
   "execution_count": 30,
   "metadata": {},
   "outputs": [
    {
     "output_type": "display_data",
     "data": {
      "text/plain": "Dropdown(description='Number:', index=1, options={'One': 1, 'Two': 2, 'Three': 3}, value=2)",
      "application/vnd.jupyter.widget-view+json": {
       "version_major": 2,
       "version_minor": 0,
       "model_id": "fae026c10f6d4c16ad7a98b33228205b"
      }
     },
     "metadata": {}
    }
   ],
   "source": [
    "widgets.Dropdown(\n",
    "    #options=[1,2,3],\n",
    "    options={'One':1,'Two':2,'Three':3},\n",
    "    value=2,\n",
    "    description='Number:',\n",
    "    disabled=False\n",
    ")"
   ]
  },
  {
   "cell_type": "code",
   "execution_count": 31,
   "metadata": {},
   "outputs": [
    {
     "output_type": "display_data",
     "data": {
      "text/plain": "RadioButtons(description='Pizza topping', options=('pepperoni', 'pineapple', 'anchovies'), value='pepperoni')",
      "application/vnd.jupyter.widget-view+json": {
       "version_major": 2,
       "version_minor": 0,
       "model_id": "faedabc788d14192b4927b8885f26c87"
      }
     },
     "metadata": {}
    }
   ],
   "source": [
    "widgets.RadioButtons(\n",
    "    options=['pepperoni', 'pineapple', 'anchovies'],\n",
    "    description='Pizza topping',\n",
    "    disabled=False\n",
    ")"
   ]
  },
  {
   "cell_type": "code",
   "execution_count": 33,
   "metadata": {},
   "outputs": [
    {
     "output_type": "display_data",
     "data": {
      "text/plain": "Select(description='OS:', index=2, options=('Linux', 'Windows', 'OSX'), value='OSX')",
      "application/vnd.jupyter.widget-view+json": {
       "version_major": 2,
       "version_minor": 0,
       "model_id": "9a9805aa066d412e91771a22c9f1f0b3"
      }
     },
     "metadata": {}
    }
   ],
   "source": [
    "widgets.Select(\n",
    "    options=['Linux', 'Windows', 'OSX'],\n",
    "    value='OSX',\n",
    "    # rows=10,\n",
    "    description='OS:',\n",
    "    disabled=False\n",
    ")"
   ]
  },
  {
   "cell_type": "code",
   "execution_count": 36,
   "metadata": {},
   "outputs": [
    {
     "output_type": "display_data",
     "data": {
      "text/plain": "SelectionSlider(continuous_update=False, description='I like my eggs...', index=1, options=('scrambled', 'sunn…",
      "application/vnd.jupyter.widget-view+json": {
       "version_major": 2,
       "version_minor": 0,
       "model_id": "f85697dabf5442edb67f32e7fe16cf2a"
      }
     },
     "metadata": {}
    }
   ],
   "source": [
    "widgets.SelectionSlider(\n",
    "    options=['scrambled', 'sunny side up', 'poached', 'over easy'],\n",
    "    value='sunny side up',\n",
    "    description='I like my eggs...',\n",
    "    disabled=False,\n",
    "    continuous_update=False,\n",
    "    orientation='horizontal',\n",
    "    readout=True\n",
    ")"
   ]
  },
  {
   "cell_type": "code",
   "execution_count": 38,
   "metadata": {},
   "outputs": [
    {
     "output_type": "display_data",
     "data": {
      "text/plain": "SelectionRangeSlider(continuous_update=False, description='I like my eggs...', index=(0, 1), options=('scrambl…",
      "application/vnd.jupyter.widget-view+json": {
       "version_major": 2,
       "version_minor": 0,
       "model_id": "ddc076cae283475887aeb815acbc596c"
      }
     },
     "metadata": {}
    }
   ],
   "source": [
    "widgets.SelectionRangeSlider(\n",
    "    options=['scrambled', 'sunny side up', 'poached', 'over easy'],\n",
    "    value=['scrambled', 'sunny side up'],\n",
    "    description='I like my eggs...',\n",
    "    disabled=False,\n",
    "    continuous_update=False,\n",
    "    orientation='horizontal',\n",
    "    readout=True\n",
    ")"
   ]
  },
  {
   "cell_type": "code",
   "execution_count": 39,
   "metadata": {},
   "outputs": [
    {
     "output_type": "display_data",
     "data": {
      "text/plain": "ToggleButtons(description='Speed', options=('Slow', 'Regular', 'Fase'), tooltips=('Description of slow', 'Desc…",
      "application/vnd.jupyter.widget-view+json": {
       "version_major": 2,
       "version_minor": 0,
       "model_id": "bfdfe86472e947d6af618d9dbff8f1ca"
      }
     },
     "metadata": {}
    }
   ],
   "source": [
    "widgets.ToggleButtons(\n",
    "    options=['Slow', 'Regular', 'Fase'],\n",
    "    description='Speed',\n",
    "    disabled=False,\n",
    "    button_style='',\n",
    "    tooltips=['Description of slow', 'Description of regular', 'Description of fast']\n",
    ")"
   ]
  },
  {
   "cell_type": "code",
   "execution_count": 40,
   "metadata": {},
   "outputs": [
    {
     "output_type": "display_data",
     "data": {
      "text/plain": "SelectMultiple(description='Fruits:', index=(1,), options=('Apples', 'Oranges', 'Pears'), value=('Oranges',))",
      "application/vnd.jupyter.widget-view+json": {
       "version_major": 2,
       "version_minor": 0,
       "model_id": "56abba2d1b7547398ab13d707745a731"
      }
     },
     "metadata": {}
    }
   ],
   "source": [
    "widgets.SelectMultiple(\n",
    "    options=['Apples','Oranges','Pears'],\n",
    "    value=['Oranges'],\n",
    "    description='Fruits:',\n",
    "    disabled=False\n",
    ")"
   ]
  },
  {
   "cell_type": "code",
   "execution_count": 42,
   "metadata": {},
   "outputs": [
    {
     "output_type": "display_data",
     "data": {
      "text/plain": "Text(value='Hello world!', description='String:', placeholder='Type something')",
      "application/vnd.jupyter.widget-view+json": {
       "version_major": 2,
       "version_minor": 0,
       "model_id": "93ef3558abbc42d8958dd9aabe9d88dd"
      }
     },
     "metadata": {}
    }
   ],
   "source": [
    "widgets.Text(\n",
    "    value='Hello world!',\n",
    "    placeholder='Type something',\n",
    "    description='String:',\n",
    "    disabled=False\n",
    ")"
   ]
  },
  {
   "cell_type": "code",
   "execution_count": 43,
   "metadata": {},
   "outputs": [
    {
     "output_type": "display_data",
     "data": {
      "text/plain": "Textarea(value='Hello world!', description='String:', placeholder='Type something')",
      "application/vnd.jupyter.widget-view+json": {
       "version_major": 2,
       "version_minor": 0,
       "model_id": "17540d2e4036481b955d506416a25b9b"
      }
     },
     "metadata": {}
    }
   ],
   "source": [
    "widgets.Textarea(\n",
    "    value='Hello world!',\n",
    "    placeholder='Type something',\n",
    "    description='String:',\n",
    "    disabled=False\n",
    ")"
   ]
  },
  {
   "cell_type": "code",
   "execution_count": 45,
   "metadata": {},
   "outputs": [
    {
     "output_type": "display_data",
     "data": {
      "text/plain": "HBox(children=(Label(value='The $m$ in $E=mc^2$'), FloatSlider(value=0.0)))",
      "application/vnd.jupyter.widget-view+json": {
       "version_major": 2,
       "version_minor": 0,
       "model_id": "4a1c9b16b23b41138409e826bf41617b"
      }
     },
     "metadata": {}
    }
   ],
   "source": [
    "widgets.HBox([\n",
    "    widgets.Label(value=\"The $m$ in $E=mc^2$\"),\n",
    "    widgets.FloatSlider()\n",
    "])"
   ]
  },
  {
   "cell_type": "code",
   "execution_count": 46,
   "metadata": {},
   "outputs": [
    {
     "output_type": "display_data",
     "data": {
      "text/plain": "HTML(value='Hello <strong>World</strong>', description='Some HTML', placeholder='Some HTML')",
      "application/vnd.jupyter.widget-view+json": {
       "version_major": 2,
       "version_minor": 0,
       "model_id": "7f01430ca68c49c69d714c2f186d6512"
      }
     },
     "metadata": {}
    }
   ],
   "source": [
    "widgets.HTML(\n",
    "    value='Hello <strong>World</strong>',\n",
    "    placeholder='Some HTML',\n",
    "    description='Some HTML'\n",
    ")"
   ]
  },
  {
   "cell_type": "code",
   "execution_count": 48,
   "metadata": {},
   "outputs": [
    {
     "output_type": "display_data",
     "data": {
      "text/plain": "HTMLMath(value='Some math and <em>HTML</em>: \\\\(x^2\\\\) and $$\\\\frac{x+1}{x-1}$$', description='Some HTML', pla…",
      "application/vnd.jupyter.widget-view+json": {
       "version_major": 2,
       "version_minor": 0,
       "model_id": "140351cac1d0454993634f1421f0a865"
      }
     },
     "metadata": {}
    }
   ],
   "source": [
    "widgets.HTMLMath(\n",
    "    value='Some math and <em>HTML</em>: \\(x^2\\) and $$\\\\frac{x+1}{x-1}$$',\n",
    "    placeholder='Some HTML',\n",
    "    description='Some HTML'\n",
    ")"
   ]
  },
  {
   "cell_type": "code",
   "execution_count": 49,
   "metadata": {},
   "outputs": [
    {
     "output_type": "error",
     "ename": "FileNotFoundError",
     "evalue": "[Errno 2] No such file or directory: 'images/WidgetArch.png'",
     "traceback": [
      "\u001b[0;31m---------------------------------------------------------------------------\u001b[0m",
      "\u001b[0;31mFileNotFoundError\u001b[0m                         Traceback (most recent call last)",
      "\u001b[0;32m<ipython-input-49-4bf3fa49d5ac>\u001b[0m in \u001b[0;36m<module>\u001b[0;34m\u001b[0m\n\u001b[0;32m----> 1\u001b[0;31m \u001b[0;32mwith\u001b[0m \u001b[0mopen\u001b[0m\u001b[0;34m(\u001b[0m\u001b[0;34m'images/WidgetArch.png'\u001b[0m\u001b[0;34m,\u001b[0m\u001b[0;34m'rb'\u001b[0m\u001b[0;34m)\u001b[0m \u001b[0;32mas\u001b[0m \u001b[0mf\u001b[0m\u001b[0;34m:\u001b[0m\u001b[0;34m\u001b[0m\u001b[0;34m\u001b[0m\u001b[0m\n\u001b[0m\u001b[1;32m      2\u001b[0m     \u001b[0mimage\u001b[0m \u001b[0;34m=\u001b[0m \u001b[0mf\u001b[0m\u001b[0;34m.\u001b[0m\u001b[0mread\u001b[0m\u001b[0;34m(\u001b[0m\u001b[0;34m)\u001b[0m\u001b[0;34m\u001b[0m\u001b[0;34m\u001b[0m\u001b[0m\n\u001b[1;32m      3\u001b[0m     widgets.Image(\n\u001b[1;32m      4\u001b[0m         \u001b[0mvalue\u001b[0m\u001b[0;34m=\u001b[0m\u001b[0mimage\u001b[0m\u001b[0;34m,\u001b[0m\u001b[0;34m\u001b[0m\u001b[0;34m\u001b[0m\u001b[0m\n\u001b[1;32m      5\u001b[0m         \u001b[0mformat\u001b[0m\u001b[0;34m=\u001b[0m\u001b[0;34m'png'\u001b[0m\u001b[0;34m,\u001b[0m\u001b[0;34m\u001b[0m\u001b[0;34m\u001b[0m\u001b[0m\n",
      "\u001b[0;31mFileNotFoundError\u001b[0m: [Errno 2] No such file or directory: 'images/WidgetArch.png'"
     ]
    }
   ],
   "source": [
    "with open('images/WidgetArch.png','rb') as f:\n",
    "    image = f.read()\n",
    "    widgets.Image(\n",
    "        value=image,\n",
    "        format='png',\n",
    "        width=300,\n",
    "        height=400\n",
    "    )"
   ]
  },
  {
   "cell_type": "code",
   "execution_count": 50,
   "metadata": {},
   "outputs": [
    {
     "output_type": "display_data",
     "data": {
      "text/plain": "Button(description='Click me', icon='check', style=ButtonStyle(), tooltip='Click me')",
      "application/vnd.jupyter.widget-view+json": {
       "version_major": 2,
       "version_minor": 0,
       "model_id": "7e3252bd068a472bafbf8c81148679cd"
      }
     },
     "metadata": {}
    }
   ],
   "source": [
    "widgets.Button(\n",
    "    description='Click me',\n",
    "    disabled=False,\n",
    "    button_style='',\n",
    "    tooltip='Click me',\n",
    "    icon='check'\n",
    ")"
   ]
  },
  {
   "cell_type": "code",
   "execution_count": null,
   "metadata": {},
   "outputs": [],
   "source": []
  }
 ]
}