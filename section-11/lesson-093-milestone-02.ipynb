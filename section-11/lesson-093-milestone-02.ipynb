{
 "metadata": {
  "language_info": {
   "codemirror_mode": {
    "name": "ipython",
    "version": 3
   },
   "file_extension": ".py",
   "mimetype": "text/x-python",
   "name": "python",
   "nbconvert_exporter": "python",
   "pygments_lexer": "ipython3",
   "version": "3.9.2-final"
  },
  "orig_nbformat": 2,
  "kernelspec": {
   "name": "python3",
   "display_name": "Python 3.9.2 64-bit",
   "metadata": {
    "interpreter": {
     "hash": "4cd7ab41f5fca4b9b44701077e38c5ffd31fe66a6cab21e0214b68d958d0e462"
    }
   }
  }
 },
 "nbformat": 4,
 "nbformat_minor": 2,
 "cells": [
  {
   "cell_type": "code",
   "execution_count": 1,
   "metadata": {},
   "outputs": [],
   "source": [
    "import random\n",
    "from IPython.display import clear_output\n",
    "suits = ('Hearts', 'Diamonds', 'Spades', 'Clubs')\n",
    "ranks = ('Two', 'Three', 'Four', 'Five', 'Six', 'Seven', 'Eight', 'Nine', 'Ten', 'Jack', 'Queen', 'King', 'Ace')\n",
    "values = {'Two':2, 'Three':3, 'Four':4, 'Five':5, 'Six':6, 'Seven':7, 'Eight':8, 'Nine':9, 'Ten':10, 'Jack':10, 'Queen':10, 'King':10, 'Ace':11}"
   ]
  },
  {
   "cell_type": "code",
   "execution_count": 2,
   "metadata": {},
   "outputs": [],
   "source": [
    "class Card:\n",
    "    def __init__(self, suit, rank):\n",
    "        self.suit = suit\n",
    "        self.rank = rank\n",
    "    def __str__(self):\n",
    "        return f'{self.rank} of {self.suit}'"
   ]
  },
  {
   "cell_type": "code",
   "execution_count": 3,
   "metadata": {},
   "outputs": [],
   "source": [
    "class Deck:\n",
    "    def __init__(self):\n",
    "        self.deck = []  # start with an empty list\n",
    "        for suit in suits:\n",
    "            for rank in ranks:\n",
    "                self.deck.append(Card(suit, rank))\n",
    "    def __str__(self):\n",
    "        for card in self.deck:\n",
    "            print(card)\n",
    "    def shuffle(self):\n",
    "        random.shuffle(self.deck)\n",
    "    def deal(self):\n",
    "        return self.deck.pop(0)"
   ]
  },
  {
   "cell_type": "code",
   "execution_count": 4,
   "metadata": {},
   "outputs": [],
   "source": [
    "class Hand:\n",
    "    def __init__(self):\n",
    "        self.cards = []  # start with an empty list as we did in the Deck class\n",
    "        self.value = 0   # start with zero value\n",
    "        self.aces = 0    # add an attribute to keep track of aces\n",
    "        self.discarded_aces = 0\n",
    "    \n",
    "    def add_card(self,card):\n",
    "        self.cards.append(card)\n",
    "        if card.rank == 'Ace':\n",
    "            self.aces += 1\n",
    "        self.value += values[card.rank]\n",
    "        self.discarded_aces = 0\n",
    "        self.adjust_for_ace()\n",
    "    \n",
    "    def adjust_for_ace(self):\n",
    "        if self.value > 21 and self.aces > 0:\n",
    "            self.value -= 10\n",
    "            self.discarded_aces\n",
    "            self.adjust_for_ace()"
   ]
  },
  {
   "cell_type": "code",
   "execution_count": 5,
   "metadata": {},
   "outputs": [],
   "source": [
    "class Chips:\n",
    "    def __init__(self):\n",
    "        self.total = 100  # This can be set to a default value or supplied by a user input\n",
    "        self.bet = 0\n",
    "    def win_bet(self):\n",
    "        self.total += self.bet\n",
    "    def lose_bet(self):\n",
    "        self.total -= self.bet"
   ]
  },
  {
   "cell_type": "code",
   "execution_count": 6,
   "metadata": {},
   "outputs": [],
   "source": [
    "def take_bet(chips):\n",
    "    while True:\n",
    "        try:\n",
    "            bet = int(input('Please provide a bet up to {} chips: '.format(chips.total)))\n",
    "            if 0 < bet <= chips.total:\n",
    "                chips.bet = bet\n",
    "                return\n",
    "            else:\n",
    "                print('Bet exceeds available chips')\n",
    "        except:\n",
    "            pass\n"
   ]
  },
  {
   "cell_type": "code",
   "execution_count": 7,
   "metadata": {},
   "outputs": [],
   "source": [
    "def hit(deck, hand):\n",
    "    card = deck.deal()\n",
    "    hand.add_card(card)"
   ]
  },
  {
   "cell_type": "code",
   "execution_count": 8,
   "metadata": {},
   "outputs": [],
   "source": [
    "def hit_or_stand(deck,hand):\n",
    "    global playing  # to control an upcoming while loop\n",
    "    res = input('Hit? (Y/N)').upper()\n",
    "    if res == 'Y':\n",
    "        hit(deck, hand)\n",
    "    else:\n",
    "        playing = False"
   ]
  },
  {
   "cell_type": "code",
   "execution_count": 9,
   "metadata": {},
   "outputs": [],
   "source": [
    "def show_some(player,dealer):\n",
    "    print('Player cards (sum: {}):'.format(player.value))\n",
    "    for card in player.cards:\n",
    "        print('  {}'.format(card))\n",
    "    print('Dealer cards (sum: ??):')\n",
    "    for card in dealer.cards[0:-1]:\n",
    "        print('  {}'.format(card))\n",
    "    print('  Hidden')\n",
    "    print('')\n",
    "    \n",
    "def show_all(player,dealer):\n",
    "    print('Player cards (sum: {}):'.format(player.value))\n",
    "    for card in player.cards:\n",
    "        print('  {}'.format(card))\n",
    "    print('Dealer cards (sum: {}):'.format(dealer.value))\n",
    "    for card in dealer.cards:\n",
    "        print('  {}'.format(card))\n",
    "    print('')"
   ]
  },
  {
   "cell_type": "code",
   "execution_count": 10,
   "metadata": {},
   "outputs": [],
   "source": [
    "def player_busts():\n",
    "    print('Player busts!')\n",
    "def player_wins():\n",
    "    print('Player wins!')\n",
    "def dealer_busts():\n",
    "    print('Dealer busts!')\n",
    "def dealer_wins():\n",
    "    print('Dealer wins!')\n",
    "def push():\n",
    "    print('Push')"
   ]
  },
  {
   "cell_type": "code",
   "execution_count": 11,
   "metadata": {},
   "outputs": [
    {
     "output_type": "stream",
     "name": "stdout",
     "text": [
      "Python Blackjack!\n",
      "Player cards (sum: 18):\n",
      "  Eight of Hearts\n",
      "  Ten of Spades\n",
      "Dealer cards (sum: ??):\n",
      "  Six of Diamonds\n",
      "    Hidden\n",
      "\n",
      "Player cards (sum: 25):\n",
      "  Eight of Hearts\n",
      "  Ten of Spades\n",
      "  Seven of Spades\n",
      "Dealer cards (sum: ??):\n",
      "  Six of Diamonds\n",
      "    Hidden\n",
      "\n",
      "Player busts!\n",
      "Player cards (sum: 25):\n",
      "  Eight of Hearts\n",
      "  Ten of Spades\n",
      "  Seven of Spades\n",
      "Dealer cards (sum: 11):\n",
      "  Six of Diamonds\n",
      "  Five of Clubs\n",
      "\n",
      "Dealer wins!\n",
      "Total chips for player: 0\n",
      "No more chips to bet with\n"
     ]
    }
   ],
   "source": [
    "chips = Chips()\n",
    "\n",
    "while True:\n",
    "    global playing\n",
    "    playing = True\n",
    "    clear_output()\n",
    "    print('Python Blackjack!')\n",
    "    player = Hand()\n",
    "    dealer = Hand()\n",
    "\n",
    "    deck = Deck()\n",
    "    deck.shuffle()\n",
    "    player.add_card(deck.deal())\n",
    "    player.add_card(deck.deal())\n",
    "    dealer.add_card(deck.deal())\n",
    "    dealer.add_card(deck.deal())\n",
    "\n",
    "    take_bet(chips)\n",
    "\n",
    "    show_some(player,dealer)\n",
    "    \n",
    "    while playing:\n",
    "        hit_or_stand(deck,player)\n",
    "        show_some(player,dealer)\n",
    "        if player.value > 21:\n",
    "            player_busts()\n",
    "            break\n",
    "\n",
    "    if player.value <= 21:\n",
    "        while dealer.value < 17:\n",
    "            dealer.add_card(deck.deal())\n",
    "    \n",
    "    show_all(player,dealer)\n",
    "    if player.value > 21:\n",
    "        chips.lose_bet()\n",
    "        dealer_wins()\n",
    "    elif dealer.value > 21 or dealer.value <= player.value:\n",
    "        chips.win_bet()\n",
    "        player_wins()\n",
    "    else:\n",
    "        chips.lose_bet()\n",
    "        dealer_wins()    \n",
    "\n",
    "    print('Total chips for player: {}'.format(chips.total))\n",
    "    if chips.total == 0:\n",
    "        print('No more chips to bet with')\n",
    "        break\n",
    "\n",
    "    if input('Keep playing? (Y/N)').upper() != 'Y':\n",
    "        break"
   ]
  }
 ]
}