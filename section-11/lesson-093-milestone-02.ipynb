{
 "metadata": {
  "language_info": {
   "codemirror_mode": {
    "name": "ipython",
    "version": 3
   },
   "file_extension": ".py",
   "mimetype": "text/x-python",
   "name": "python",
   "nbconvert_exporter": "python",
   "pygments_lexer": "ipython3",
   "version": "3.9.2-final"
  },
  "orig_nbformat": 2,
  "kernelspec": {
   "name": "python3",
   "display_name": "Python 3.9.2 64-bit",
   "metadata": {
    "interpreter": {
     "hash": "4cd7ab41f5fca4b9b44701077e38c5ffd31fe66a6cab21e0214b68d958d0e462"
    }
   }
  }
 },
 "nbformat": 4,
 "nbformat_minor": 2,
 "cells": [
  {
   "cell_type": "code",
   "execution_count": 1,
   "metadata": {},
   "outputs": [],
   "source": [
    "import random\n",
    "from IPython.display import clear_output\n",
    "suits = ('Hearts', 'Diamonds', 'Spades', 'Clubs')\n",
    "ranks = ('Two', 'Three', 'Four', 'Five', 'Six', 'Seven', 'Eight', 'Nine', 'Ten', 'Jack', 'Queen', 'King', 'Ace')\n",
    "values = {'Two':2, 'Three':3, 'Four':4, 'Five':5, 'Six':6, 'Seven':7, 'Eight':8, 'Nine':9, 'Ten':10, 'Jack':10, 'Queen':10, 'King':10, 'Ace':11}"
   ]
  },
  {
   "cell_type": "code",
   "execution_count": 2,
   "metadata": {},
   "outputs": [],
   "source": [
    "class Card:\n",
    "    def __init__(self, suit, rank):\n",
    "        self.suit = suit\n",
    "        self.rank = rank\n",
    "    def __str__(self):\n",
    "        return f'{self.rank} of {self.suit}'"
   ]
  },
  {
   "cell_type": "code",
   "execution_count": 3,
   "metadata": {},
   "outputs": [],
   "source": [
    "class Deck:\n",
    "    def __init__(self):\n",
    "        self.deck = []  # start with an empty list\n",
    "        for suit in suits:\n",
    "            for rank in ranks:\n",
    "                self.deck.append(Card(suit, rank))\n",
    "    def __str__(self):\n",
    "        deck_comp = ''\n",
    "        for card in self.deck:\n",
    "            deck_comp += '\\n{}'.format(card)\n",
    "        return 'The deck has: {}'.format(deck_comp)\n",
    "    def shuffle(self):\n",
    "        random.shuffle(self.deck)\n",
    "    def deal(self):\n",
    "        return self.deck.pop()"
   ]
  },
  {
   "cell_type": "code",
   "execution_count": 4,
   "metadata": {},
   "outputs": [],
   "source": [
    "class Hand:\n",
    "    def __init__(self):\n",
    "        self.cards = []  # start with an empty list as we did in the Deck class\n",
    "        self.value = 0   # start with zero value\n",
    "        self.aces = 0    # add an attribute to keep track of aces\n",
    "    \n",
    "    def add_card(self,card):\n",
    "        self.cards.append(card)\n",
    "        if card.rank == 'Ace':\n",
    "            self.aces += 1\n",
    "        self.value += values[card.rank]\n",
    "        self.adjust_for_ace()\n",
    "    \n",
    "    def adjust_for_ace(self):\n",
    "        if self.value > 21 and self.aces > 0:\n",
    "            self.value -= 10\n",
    "            self.aces -= 1"
   ]
  },
  {
   "cell_type": "code",
   "execution_count": 5,
   "metadata": {},
   "outputs": [],
   "source": [
    "class Chips:\n",
    "    def __init__(self):\n",
    "        self.total = 100  # This can be set to a default value or supplied by a user input\n",
    "        self.bet = 0\n",
    "    def win_bet(self):\n",
    "        self.total += self.bet\n",
    "    def lose_bet(self):\n",
    "        self.total -= self.bet"
   ]
  },
  {
   "cell_type": "code",
   "execution_count": 6,
   "metadata": {},
   "outputs": [],
   "source": [
    "def take_bet(chips):\n",
    "    while True:\n",
    "        try:\n",
    "            bet = int(input('Please provide a bet up to {} chips: '.format(chips.total)))\n",
    "            if 0 < bet <= chips.total:\n",
    "                chips.bet = bet\n",
    "                return\n",
    "            else:\n",
    "                print('Bet exceeds available chips')\n",
    "        except:\n",
    "            print('Sorry, please provide a number')\n"
   ]
  },
  {
   "cell_type": "code",
   "execution_count": 7,
   "metadata": {},
   "outputs": [],
   "source": [
    "def hit(deck, hand):\n",
    "    card = deck.deal()\n",
    "    hand.add_card(card)"
   ]
  },
  {
   "cell_type": "code",
   "execution_count": 8,
   "metadata": {},
   "outputs": [],
   "source": [
    "def hit_or_stand(deck,hand):\n",
    "    global playing  # to control an upcoming while loop\n",
    "    while True:\n",
    "        res = input('Hit or Stand? (H/S)').upper()\n",
    "        if res == 'H':\n",
    "            hit(deck, hand)\n",
    "            return\n",
    "        elif res === 'S':\n",
    "            print('Player stands. Dealer\\'s turn')\n",
    "            playing = False\n",
    "            return\n",
    "        else:\n",
    "            print('Please provide H or S')"
   ]
  },
  {
   "cell_type": "code",
   "execution_count": 14,
   "metadata": {},
   "outputs": [],
   "source": [
    "def show_some(player,dealer):\n",
    "    print('Player\\'s cards (value: {}):'.format(player.value), *player.cards, sep='\\n  ')\n",
    "    print('Dealer\\'s cards (value: ??):', *dealer.cards[0:-1], sep='\\n  ')\n",
    "    print('  Hidden')\n",
    "    print('')\n",
    "    \n",
    "def show_all(player,dealer):\n",
    "    print('Player\\'s cards (value: {}):'.format(player.value), *player.cards, sep='\\n  ')\n",
    "    print('Dealer\\'s cards (value: {}):'.format(dealer.value), *dealer.cards, sep='\\n  ')\n",
    "    print('')"
   ]
  },
  {
   "cell_type": "code",
   "execution_count": 16,
   "metadata": {},
   "outputs": [],
   "source": [
    "def player_busts(chips):\n",
    "    chips.lose_bet()\n",
    "    print('Player busts!')\n",
    "def player_wins(chips):\n",
    "    chips.win_bet()\n",
    "    print('Player wins!')\n",
    "def dealer_busts(chips):\n",
    "    chips.win_bet()\n",
    "    print('Dealer busts!')\n",
    "def dealer_wins(chips):\n",
    "    chips.lose_bet()\n",
    "    print('Dealer wins!')\n",
    "def push():\n",
    "    print('Dealer and player tie. Push!')"
   ]
  },
  {
   "cell_type": "code",
   "execution_count": 18,
   "metadata": {},
   "outputs": [
    {
     "output_type": "stream",
     "name": "stdout",
     "text": [
      "Python Blackjack!\n",
      "Player's cards (value: 11):\n",
      "  Two of Hearts\n",
      "  Nine of Clubs\n",
      "Dealer's cards (value: ??):\n",
      "  Nine of Hearts\n",
      "  Hidden\n",
      "\n",
      "Player's cards (value: 21):\n",
      "  Two of Hearts\n",
      "  Nine of Clubs\n",
      "  Jack of Diamonds\n",
      "Dealer's cards (value: ??):\n",
      "  Nine of Hearts\n",
      "  Hidden\n",
      "\n",
      "Player's cards (value: 21):\n",
      "  Two of Hearts\n",
      "  Nine of Clubs\n",
      "  Jack of Diamonds\n",
      "Dealer's cards (value: ??):\n",
      "  Nine of Hearts\n",
      "  Hidden\n",
      "\n",
      "Player's cards (value: 21):\n",
      "  Two of Hearts\n",
      "  Nine of Clubs\n",
      "  Jack of Diamonds\n",
      "Dealer's cards (value: 25):\n",
      "  Nine of Hearts\n",
      "  Five of Spades\n",
      "  Ace of Hearts\n",
      "  Jack of Spades\n",
      "\n",
      "Player wins!\n",
      "Total chips for player: 40\n"
     ]
    }
   ],
   "source": [
    "chips = Chips()\n",
    "\n",
    "while True:\n",
    "    global playing\n",
    "    playing = True\n",
    "    clear_output()\n",
    "    print('Python Blackjack!')\n",
    "    player = Hand()\n",
    "    dealer = Hand()\n",
    "\n",
    "    deck = Deck()\n",
    "    deck.shuffle()\n",
    "    player.add_card(deck.deal())\n",
    "    player.add_card(deck.deal())\n",
    "    dealer.add_card(deck.deal())\n",
    "    dealer.add_card(deck.deal())\n",
    "\n",
    "    take_bet(chips)\n",
    "\n",
    "    show_some(player,dealer)\n",
    "    \n",
    "    while playing:\n",
    "        hit_or_stand(deck,player)\n",
    "        show_some(player,dealer)\n",
    "        if player.value > 21:\n",
    "            break\n",
    "\n",
    "    if player.value <= 21:\n",
    "        while dealer.value < 17:\n",
    "            dealer.add_card(deck.deal())\n",
    "    \n",
    "    show_all(player,dealer)\n",
    "    if player.value > 21:\n",
    "        dealer_wins(chips)\n",
    "    elif dealer.value > 21 or dealer.value < player.value:\n",
    "        player_wins(chips)\n",
    "    elif dealer.value > player.value:\n",
    "        dealer_wins(chips)\n",
    "    else:\n",
    "        push(chips)\n",
    "\n",
    "    print('Total chips for player: {}'.format(chips.total))\n",
    "    if chips.total == 0:\n",
    "        print('No more chips to bet with')\n",
    "        break\n",
    "\n",
    "    if input('Keep playing? (Y/N)').upper() != 'Y':\n",
    "        break"
   ]
  }
 ]
}