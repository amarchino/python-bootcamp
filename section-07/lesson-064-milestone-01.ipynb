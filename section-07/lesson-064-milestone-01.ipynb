{
 "metadata": {
  "language_info": {
   "codemirror_mode": {
    "name": "ipython",
    "version": 3
   },
   "file_extension": ".py",
   "mimetype": "text/x-python",
   "name": "python",
   "nbconvert_exporter": "python",
   "pygments_lexer": "ipython3",
   "version": "3.9.2-final"
  },
  "orig_nbformat": 2,
  "kernelspec": {
   "name": "python3",
   "display_name": "Python 3.9.2 64-bit",
   "metadata": {
    "interpreter": {
     "hash": "4cd7ab41f5fca4b9b44701077e38c5ffd31fe66a6cab21e0214b68d958d0e462"
    }
   }
  }
 },
 "nbformat": 4,
 "nbformat_minor": 2,
 "cells": [
  {
   "cell_type": "code",
   "execution_count": 1,
   "metadata": {},
   "outputs": [],
   "source": [
    "from IPython.display import clear_output\n",
    "import random\n",
    "def display_board(board):\n",
    "    clear_output()\n",
    "    print('{}|{}|{}'.format(board[7],board[8],board[9]))\n",
    "    print('-----')\n",
    "    print('{}|{}|{}'.format(board[4],board[5],board[6]))\n",
    "    print('-----')\n",
    "    print('{}|{}|{}'.format(board[1],board[2],board[3]))"
   ]
  },
  {
   "cell_type": "code",
   "execution_count": 2,
   "metadata": {},
   "outputs": [
    {
     "output_type": "stream",
     "name": "stdout",
     "text": [
      "X|O|X\n-----\nO|X|O\n-----\nX|O|X\n"
     ]
    }
   ],
   "source": [
    "test_board = ['#','X','O','X','O','X','O','X','O','X']\n",
    "display_board(test_board)"
   ]
  },
  {
   "cell_type": "code",
   "execution_count": 20,
   "metadata": {},
   "outputs": [],
   "source": [
    "def player_input():\n",
    "    marker = ''\n",
    "    while marker not in ['X', 'O']:\n",
    "        marker = input('Player 1, choose X or O: ').upper()\n",
    "    player1 = marker\n",
    "    player2 = 'O' if marker == 'X' else 'X'\n",
    "    return (player1,player2)\n",
    "\n"
   ]
  },
  {
   "cell_type": "code",
   "execution_count": 11,
   "metadata": {},
   "outputs": [
    {
     "output_type": "execute_result",
     "data": {
      "text/plain": [
       "('O', 'X')"
      ]
     },
     "metadata": {},
     "execution_count": 11
    }
   ],
   "source": [
    "player_input()"
   ]
  },
  {
   "cell_type": "code",
   "execution_count": 28,
   "metadata": {},
   "outputs": [],
   "source": [
    "def place_marker(board, marker, position):\n",
    "    board[position] = marker\n",
    "    return board"
   ]
  },
  {
   "cell_type": "code",
   "execution_count": 7,
   "metadata": {},
   "outputs": [
    {
     "output_type": "stream",
     "name": "stdout",
     "text": [
      "X|$|X\n-----\nO|X|O\n-----\nX|O|X\n"
     ]
    }
   ],
   "source": [
    "place_marker(test_board,'$',8)\n",
    "display_board(test_board)"
   ]
  },
  {
   "cell_type": "code",
   "execution_count": 30,
   "metadata": {},
   "outputs": [],
   "source": [
    "def win_check(board, mark):\n",
    "    win = [mark,mark,mark]\n",
    "    return board[1:4] == win \\\n",
    "            or board[4:7] == win \\\n",
    "            or board[7:10] == win \\\n",
    "            or board[1:8:3] == win \\\n",
    "            or board[2:9:3] == win \\\n",
    "            or board[3:10:3] == win \\\n",
    "            or board[1:10:4] == win \\\n",
    "            or board[3:8:2] == win"
   ]
  },
  {
   "cell_type": "code",
   "execution_count": 14,
   "metadata": {},
   "outputs": [
    {
     "output_type": "execute_result",
     "data": {
      "text/plain": [
       "False"
      ]
     },
     "metadata": {},
     "execution_count": 14
    }
   ],
   "source": [
    "win_check(test_board,'O')"
   ]
  },
  {
   "cell_type": "code",
   "execution_count": 31,
   "metadata": {},
   "outputs": [],
   "source": [
    "def choose_first():\n",
    "    return random.randint(0,1)"
   ]
  },
  {
   "cell_type": "code",
   "execution_count": 32,
   "metadata": {},
   "outputs": [],
   "source": [
    "def space_check(board, position):\n",
    "    return board[position]==' '"
   ]
  },
  {
   "cell_type": "code",
   "execution_count": 33,
   "metadata": {},
   "outputs": [],
   "source": [
    "def full_board_check(board):\n",
    "    for i in range(1,10):\n",
    "        if space_check(board, i):\n",
    "            return False\n",
    "    return True"
   ]
  },
  {
   "cell_type": "code",
   "execution_count": 16,
   "metadata": {},
   "outputs": [
    {
     "output_type": "execute_result",
     "data": {
      "text/plain": [
       "True"
      ]
     },
     "metadata": {},
     "execution_count": 16
    }
   ],
   "source": [
    "full_board_check(test_board)"
   ]
  },
  {
   "cell_type": "code",
   "execution_count": 26,
   "metadata": {},
   "outputs": [],
   "source": [
    "def player_choice(board):\n",
    "    position = ''\n",
    "    while True:\n",
    "        position = input('Choose your next position: (1-9) ')\n",
    "        if not position.isdigit() or not (1 <= int(position) <= 9):\n",
    "            print ('Please choose a number between 1 and 9')\n",
    "            continue\n",
    "        position = int(position)\n",
    "        if not space_check(board, position):\n",
    "            print ('Position already chosen, pick a different one')\n",
    "        else:\n",
    "            return position"
   ]
  },
  {
   "cell_type": "code",
   "execution_count": 18,
   "metadata": {},
   "outputs": [],
   "source": [
    "def replay():\n",
    "    choice = ''\n",
    "    while choice not in ['Y', 'N']:\n",
    "        choice = input('Do you want to keep playing? (Y or N) ').upper()\n",
    "    return choice == 'Y'"
   ]
  },
  {
   "cell_type": "code",
   "execution_count": 35,
   "metadata": {},
   "outputs": [
    {
     "output_type": "stream",
     "name": "stdout",
     "text": [
      "X|X|O\n-----\nO|X|O\n-----\nX|O|O\n"
     ]
    }
   ],
   "source": [
    "print('Welcome to Tic Tac Toe!')\n",
    "while True:\n",
    "    board = ['#',' ',' ',' ',' ',' ',' ',' ',' ',' ']\n",
    "    players = player_input()\n",
    "    round = choose_first()\n",
    "    game_on = True\n",
    "    while game_on:\n",
    "        display_board(board)\n",
    "        position = player_choice(board)\n",
    "        place_marker(board, players[round], position)\n",
    "        if win_check(board, players[round]) or full_board_check(board):\n",
    "            display_board(board)\n",
    "            game_on = False\n",
    "        round = (round + 1) % 2\n",
    "    if not replay():\n",
    "        break\n"
   ]
  },
  {
   "cell_type": "code",
   "execution_count": null,
   "metadata": {},
   "outputs": [],
   "source": []
  }
 ]
}